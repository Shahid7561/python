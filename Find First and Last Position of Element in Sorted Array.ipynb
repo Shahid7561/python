{
 "cells": [
  {
   "cell_type": "markdown",
   "metadata": {},
   "source": [
    "Find First and Last Position of Element in Sorted Array"
   ]
  },
  {
   "cell_type": "code",
   "execution_count": 2,
   "metadata": {},
   "outputs": [],
   "source": [
    "nums = [5,7,7,8,8,10]\n",
    "target = 8"
   ]
  },
  {
   "cell_type": "code",
   "execution_count": 3,
   "metadata": {},
   "outputs": [
    {
     "name": "stdout",
     "output_type": "stream",
     "text": [
      "[3, 4]\n"
     ]
    }
   ],
   "source": [
    "def searchRange(nums,target):\n",
    "    def binarySearch(nums,target,leftBias):\n",
    "        l,r = 0,len(nums)-1\n",
    "        i = -1\n",
    "        while l<=r:\n",
    "            m = (l+r)//2\n",
    "            if target > nums[m]:\n",
    "                l = m + 1\n",
    "            elif target < nums[m]:\n",
    "                r = m - 1\n",
    "            else:\n",
    "                i = m\n",
    "                if leftBias:\n",
    "                    r = m - 1\n",
    "                else:\n",
    "                    l = m + 1\n",
    "        return i\n",
    "\n",
    "    left = binarySearch(nums,target,True)\n",
    "    right = binarySearch(nums,target,False)\n",
    "    return [left,right]\n",
    "\n",
    "print(searchRange(nums,target))"
   ]
  }
 ],
 "metadata": {
  "kernelspec": {
   "display_name": "Python 3",
   "language": "python",
   "name": "python3"
  },
  "language_info": {
   "codemirror_mode": {
    "name": "ipython",
    "version": 3
   },
   "file_extension": ".py",
   "mimetype": "text/x-python",
   "name": "python",
   "nbconvert_exporter": "python",
   "pygments_lexer": "ipython3",
   "version": "3.11.4"
  },
  "orig_nbformat": 4
 },
 "nbformat": 4,
 "nbformat_minor": 2
}
