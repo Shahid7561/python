{
 "cells": [
  {
   "cell_type": "code",
   "execution_count": 1,
   "metadata": {},
   "outputs": [
    {
     "name": "stdout",
     "output_type": "stream",
     "text": [
      "[1, 2, 4, 5]\n"
     ]
    }
   ],
   "source": [
    "element = int(input(\"Enter number of element: \"))\n",
    "l1 = []\n",
    "for i in range(1,element+1):\n",
    "    num = int(input(\"Enter number: \"))\n",
    "    l1.append(num)\n",
    "deleted = int(input(\"Enter position: \"))\n",
    "l1.remove(deleted)\n",
    "print(l1)"
   ]
  },
  {
   "cell_type": "code",
   "execution_count": 2,
   "metadata": {},
   "outputs": [],
   "source": [
    "word = \"Scaler Data Science Course\"\n",
    "word_list = list(word)"
   ]
  },
  {
   "cell_type": "code",
   "execution_count": 3,
   "metadata": {},
   "outputs": [
    {
     "name": "stdout",
     "output_type": "stream",
     "text": [
      "['c', 'a']\n"
     ]
    }
   ],
   "source": [
    "print(word_list[1:3])"
   ]
  },
  {
   "cell_type": "code",
   "execution_count": 5,
   "metadata": {},
   "outputs": [
    {
     "name": "stdout",
     "output_type": "stream",
     "text": [
      "['D', 'a', 't', 'a', ' ', 'S', 'c', 'i', 'e', 'n', 'c']\n"
     ]
    }
   ],
   "source": [
    "print(word_list[7:18])"
   ]
  },
  {
   "cell_type": "code",
   "execution_count": 1,
   "metadata": {},
   "outputs": [],
   "source": [
    "def divide_tuple(input_tuple):\n",
    "    even_indexed_elements = tuple(input_tuple[i] for i in range(len(input_tuple)) if i % 2 == 1)\n",
    "    odd_indexed_elements = tuple(input_tuple[i] for i in range(len(input_tuple)) if i % 2 == 0)\n",
    "\n",
    "    return odd_indexed_elements, even_indexed_elements"
   ]
  },
  {
   "cell_type": "code",
   "execution_count": 2,
   "metadata": {},
   "outputs": [
    {
     "name": "stdout",
     "output_type": "stream",
     "text": [
      "Odd: (1, 3, [4, 8, 16], 'Hello')\n",
      "Even: (2, 'Hello', 2)\n"
     ]
    }
   ],
   "source": [
    "input_tuple = (1, 2, 3, \"Hello\", [4, 8, 16], 2, \"Hello\")\n",
    "\n",
    "# Call the function to divide the tuple\n",
    "odd_elements, even_elements = divide_tuple(input_tuple)\n",
    "\n",
    "# Print the results\n",
    "print(\"Odd:\", odd_elements)\n",
    "print(\"Even:\", even_elements)"
   ]
  },
  {
   "cell_type": "code",
   "execution_count": 3,
   "metadata": {},
   "outputs": [
    {
     "name": "stdout",
     "output_type": "stream",
     "text": [
      "('Item_1', 0.5, ['Vijay', 'Vickey', 'Vishal'])\n"
     ]
    }
   ],
   "source": [
    "name_lst = [\"Vijay\", \"Vickey\"]\n",
    "tup = (\"Item_1\", 0.5, name_lst)\n",
    "name_lst.append(\"Vishal\")\n",
    "print(tup)"
   ]
  },
  {
   "cell_type": "code",
   "execution_count": 4,
   "metadata": {},
   "outputs": [
    {
     "name": "stdout",
     "output_type": "stream",
     "text": [
      "(30, 40, 50) (10, 20, 30, 40) (40, 50, 60, 70, 80)\n"
     ]
    }
   ],
   "source": [
    "elements = (10, 20, 30, 40, 50, 60, 70, 80)\n",
    "print(elements[2:5], elements[:4], elements[3:100])"
   ]
  },
  {
   "cell_type": "code",
   "execution_count": 5,
   "metadata": {},
   "outputs": [
    {
     "name": "stdout",
     "output_type": "stream",
     "text": [
      "This is not a member of the dictionary\n"
     ]
    }
   ],
   "source": [
    "dict1 = {'age': 35, 'name': 'abc', 'salary': 45000}\n",
    "\n",
    "val = dict1['age']\n",
    "\n",
    "if val in dict1:\n",
    "    print('This is a member of the dictionary')\n",
    "else:\n",
    "    print('This is not a member of the dictionary')"
   ]
  },
  {
   "cell_type": "code",
   "execution_count": 6,
   "metadata": {},
   "outputs": [
    {
     "name": "stdout",
     "output_type": "stream",
     "text": [
      "{'Sheldon': 1, 'Leonard': 2, 'Penny': 2}\n"
     ]
    }
   ],
   "source": [
    "bbt = {'Sheldon': 1, 'Leonard': 2}\n",
    "bbt.update({'Penny': 2})\n",
    "print(bbt)"
   ]
  },
  {
   "cell_type": "code",
   "execution_count": 1,
   "metadata": {},
   "outputs": [
    {
     "name": "stdout",
     "output_type": "stream",
     "text": [
      "10: 3\n",
      "8: 4\n",
      "5: 2\n",
      "2: 2\n",
      "15: 1\n"
     ]
    }
   ],
   "source": [
    "tup = (10, 8, 5, 2, 10, 15, 10, 8, 5, 8, 8, 2)\n",
    "frequency_dict = {}\n",
    "\n",
    "    # Iterate through the elements in the tuple\n",
    "for element in tup:\n",
    "        # If the element is not in the dictionary, add it with a frequency of 1\n",
    "    if element not in frequency_dict:\n",
    "        frequency_dict[element] = 1\n",
    "        # If the element is already in the dictionary, increment its frequency by 1\n",
    "    else:\n",
    "        frequency_dict[element] += 1\n",
    "\n",
    "    # Iterate through the dictionary and print the element frequencies\n",
    "for element, frequency in frequency_dict.items():\n",
    "    print(f\"{element}: {frequency}\")"
   ]
  },
  {
   "cell_type": "code",
   "execution_count": 7,
   "metadata": {},
   "outputs": [
    {
     "name": "stdout",
     "output_type": "stream",
     "text": [
      "{1, 2, 3, 4, 5}\n"
     ]
    }
   ],
   "source": [
    "sets = {3, 4, 5} \n",
    "sets = sets.union({1, 2, 3})\n",
    "print(sets)"
   ]
  },
  {
   "cell_type": "code",
   "execution_count": 8,
   "metadata": {},
   "outputs": [
    {
     "ename": "TypeError",
     "evalue": "'set' object does not support item assignment",
     "output_type": "error",
     "traceback": [
      "\u001b[1;31m---------------------------------------------------------------------------\u001b[0m",
      "\u001b[1;31mTypeError\u001b[0m                                 Traceback (most recent call last)",
      "\u001b[1;32mc:\\Users\\DELL\\Desktop\\Shahid_Python\\one.ipynb Cell 13\u001b[0m line \u001b[0;36m2\n\u001b[0;32m      <a href='vscode-notebook-cell:/c%3A/Users/DELL/Desktop/Shahid_Python/one.ipynb#X15sZmlsZQ%3D%3D?line=0'>1</a>\u001b[0m a\u001b[39m=\u001b[39m{\u001b[39m'\u001b[39m\u001b[39mAurn\u001b[39m\u001b[39m'\u001b[39m, \u001b[39m'\u001b[39m\u001b[39mNikhil\u001b[39m\u001b[39m'\u001b[39m, \u001b[39m'\u001b[39m\u001b[39mSeeta\u001b[39m\u001b[39m'\u001b[39m}\n\u001b[1;32m----> <a href='vscode-notebook-cell:/c%3A/Users/DELL/Desktop/Shahid_Python/one.ipynb#X15sZmlsZQ%3D%3D?line=1'>2</a>\u001b[0m a[\u001b[39m0\u001b[39;49m]\u001b[39m=\u001b[39m \u001b[39m'\u001b[39m\u001b[39mArun\u001b[39m\u001b[39m'\u001b[39m\n\u001b[0;32m      <a href='vscode-notebook-cell:/c%3A/Users/DELL/Desktop/Shahid_Python/one.ipynb#X15sZmlsZQ%3D%3D?line=2'>3</a>\u001b[0m \u001b[39mprint\u001b[39m(a)\n",
      "\u001b[1;31mTypeError\u001b[0m: 'set' object does not support item assignment"
     ]
    }
   ],
   "source": [
    "a={'Aurn', 'Nikhil', 'Seeta'}\n",
    "a[0]= 'Arun'\n",
    "print(a)"
   ]
  },
  {
   "cell_type": "code",
   "execution_count": 1,
   "metadata": {},
   "outputs": [
    {
     "name": "stdout",
     "output_type": "stream",
     "text": [
      "68.0\n"
     ]
    }
   ],
   "source": [
    "def convert(t):\n",
    "    return t*9/5 + 32\n",
    "\n",
    "print(convert(20))"
   ]
  }
 ],
 "metadata": {
  "kernelspec": {
   "display_name": "Python 3",
   "language": "python",
   "name": "python3"
  },
  "language_info": {
   "codemirror_mode": {
    "name": "ipython",
    "version": 3
   },
   "file_extension": ".py",
   "mimetype": "text/x-python",
   "name": "python",
   "nbconvert_exporter": "python",
   "pygments_lexer": "ipython3",
   "version": "3.11.4"
  },
  "orig_nbformat": 4
 },
 "nbformat": 4,
 "nbformat_minor": 2
}
